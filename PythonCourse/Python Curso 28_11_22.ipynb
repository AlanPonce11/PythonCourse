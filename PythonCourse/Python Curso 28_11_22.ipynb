{
 "cells": [
  {
   "cell_type": "markdown",
   "id": "fcac3843",
   "metadata": {},
   "source": [
    "# Repaso general de conceptos y sintaxis de la programación con Python 3 (28/11/22)"
   ]
  },
  {
   "cell_type": "markdown",
   "id": "451c2a17",
   "metadata": {},
   "source": [
    "# Python es un lenguaje de programación de alto nivel que se utiliza para desarrollar aplicaciones de todo tipo. "
   ]
  },
  {
   "cell_type": "markdown",
   "id": "bb2068d9",
   "metadata": {},
   "source": [
    "# Python, sino que se ejecutan directamente por el ordenador utilizando un programa denominado interpretador, por lo que no es necesario “traducirlo” a lenguaje máquina.\n",
    "\n"
   ]
  },
  {
   "cell_type": "markdown",
   "id": "c02cc89c",
   "metadata": {},
   "source": [
    "# Instalacion de Python (28/11/22)"
   ]
  },
  {
   "cell_type": "markdown",
   "id": "f743b896",
   "metadata": {},
   "source": [
    "# https://www.python.org/downloads/\n",
    "\n",
    "\n"
   ]
  },
  {
   "cell_type": "markdown",
   "id": "d01ae37f",
   "metadata": {},
   "source": [
    "# https://www.anaconda.com/products/distribution"
   ]
  },
  {
   "cell_type": "markdown",
   "id": "1fb28d53",
   "metadata": {},
   "source": [
    "# https://visualstudio.microsoft.com/es/downloads/"
   ]
  },
  {
   "cell_type": "markdown",
   "id": "93f46ac7",
   "metadata": {},
   "source": [
    "# https://www.programiz.com/python-programming/online-compiler/"
   ]
  },
  {
   "cell_type": "markdown",
   "id": "17876379",
   "metadata": {},
   "source": [
    "# Programacion con python (28/11/22)"
   ]
  },
  {
   "cell_type": "code",
   "execution_count": 31,
   "id": "de956583",
   "metadata": {},
   "outputs": [
    {
     "name": "stdout",
     "output_type": "stream",
     "text": [
      "Hello world\n"
     ]
    }
   ],
   "source": [
    "print (\"Hello world\")"
   ]
  },
  {
   "cell_type": "markdown",
   "id": "5252d0ae",
   "metadata": {},
   "source": [
    "# Tipo de datos"
   ]
  },
  {
   "cell_type": "code",
   "execution_count": 32,
   "id": "7f0f1f49",
   "metadata": {},
   "outputs": [
    {
     "name": "stdout",
     "output_type": "stream",
     "text": [
      "10000\n",
      "22.5\n",
      "Hola a todos\n",
      "True\n",
      "False\n"
     ]
    }
   ],
   "source": [
    "#enteros\n",
    "print(10000)\n",
    "#float\n",
    "print(22.5)\n",
    "#cadenas (strings)\n",
    "print(\"Hola a todos\")\n",
    "#boolean\n",
    "print(True)\n",
    "print(False)"
   ]
  },
  {
   "cell_type": "markdown",
   "id": "32352d9b",
   "metadata": {},
   "source": [
    "# Operaciones basicas"
   ]
  },
  {
   "cell_type": "code",
   "execution_count": 33,
   "id": "c46ecc29",
   "metadata": {},
   "outputs": [
    {
     "name": "stdout",
     "output_type": "stream",
     "text": [
      "105\n",
      "-95\n",
      "10\n",
      "50\n",
      "16\n"
     ]
    }
   ],
   "source": [
    "#suma\n",
    "print(5 + 100)\n",
    "#resta\n",
    "print(5 - 100)\n",
    "#slash\n",
    "print(50 // 5)\n",
    "#multiplication\n",
    "print(5 * 10)\n",
    "#Exponenciacion\n",
    "print(2 ** 4)"
   ]
  },
  {
   "cell_type": "markdown",
   "id": "88e448cd",
   "metadata": {},
   "source": [
    "# Operaciones booleanos"
   ]
  },
  {
   "cell_type": "code",
   "execution_count": 34,
   "id": "ed4e4b1d",
   "metadata": {},
   "outputs": [
    {
     "name": "stdout",
     "output_type": "stream",
     "text": [
      "False\n",
      "True\n",
      "True\n",
      "True\n"
     ]
    }
   ],
   "source": [
    "# True\n",
    "# False\n",
    "\n",
    "print ( 5 <= 4 )\n",
    "print ( 5 >= 4 )\n",
    "print ( 4 == 4 )\n",
    "print ( 5 != 4 )"
   ]
  },
  {
   "cell_type": "markdown",
   "id": "95c8a740",
   "metadata": {},
   "source": [
    "# Variables"
   ]
  },
  {
   "cell_type": "code",
   "execution_count": 35,
   "id": "07c74d44",
   "metadata": {},
   "outputs": [
    {
     "name": "stdout",
     "output_type": "stream",
     "text": [
      "Daniel\n",
      "123\n"
     ]
    }
   ],
   "source": [
    "caja1 = \"Daniel\"\n",
    "print  (caja1)\n",
    "\n",
    "caja1=123\n",
    "print  (caja1)"
   ]
  },
  {
   "cell_type": "markdown",
   "id": "b44fd63f",
   "metadata": {},
   "source": [
    "# Condicionales"
   ]
  },
  {
   "cell_type": "code",
   "execution_count": 36,
   "id": "35359eb8",
   "metadata": {},
   "outputs": [
    {
     "name": "stdout",
     "output_type": "stream",
     "text": [
      "quedarme en casa\n"
     ]
    }
   ],
   "source": [
    "esta_lloviendo = True\n",
    "\n",
    "if  esta_lloviendo:\n",
    "\tprint(\"quedarme en casa\")\n",
    "else: \n",
    "    print(\"salir al parque\")"
   ]
  },
  {
   "cell_type": "code",
   "execution_count": 37,
   "id": "2e83f078",
   "metadata": {},
   "outputs": [
    {
     "name": "stdout",
     "output_type": "stream",
     "text": [
      "salir al parque\n"
     ]
    }
   ],
   "source": [
    "esta_lloviendo = False\n",
    "\n",
    "if  esta_lloviendo:\n",
    "\tprint(\"quedarme en casa\")\n",
    "else: \n",
    "    print(\"salir al parque\")"
   ]
  },
  {
   "cell_type": "code",
   "execution_count": 38,
   "id": "7dd811de",
   "metadata": {},
   "outputs": [
    {
     "name": "stdout",
     "output_type": "stream",
     "text": [
      "quedarme en casa\n"
     ]
    }
   ],
   "source": [
    "esta_lloviendo = True\n",
    "\n",
    "if  esta_lloviendo:\n",
    "\tprint(\"quedarme en casa\")\n",
    "elif esta_soleado:\n",
    "\tprint(\"salir al parque\")\n",
    "else: \n",
    "    print(\"quedarme en casa\")"
   ]
  },
  {
   "cell_type": "markdown",
   "id": "0c6105b6",
   "metadata": {},
   "source": [
    "# Fin Clase 28/11/22"
   ]
  },
  {
   "cell_type": "markdown",
   "id": "5a817374",
   "metadata": {},
   "source": [
    "# Inicio Clase  30/11/22"
   ]
  },
  {
   "cell_type": "code",
   "execution_count": null,
   "id": "1fa88f47",
   "metadata": {},
   "outputs": [],
   "source": []
  },
  {
   "cell_type": "code",
   "execution_count": null,
   "id": "48a22a4b",
   "metadata": {},
   "outputs": [],
   "source": []
  },
  {
   "cell_type": "code",
   "execution_count": null,
   "id": "f2b6c71e",
   "metadata": {},
   "outputs": [],
   "source": []
  },
  {
   "cell_type": "code",
   "execution_count": null,
   "id": "d4c3d94b",
   "metadata": {},
   "outputs": [],
   "source": []
  }
 ],
 "metadata": {
  "kernelspec": {
   "display_name": "Python 3 (ipykernel)",
   "language": "python",
   "name": "python3"
  },
  "language_info": {
   "codemirror_mode": {
    "name": "ipython",
    "version": 3
   },
   "file_extension": ".py",
   "mimetype": "text/x-python",
   "name": "python",
   "nbconvert_exporter": "python",
   "pygments_lexer": "ipython3",
   "version": "3.9.13"
  }
 },
 "nbformat": 4,
 "nbformat_minor": 5
}
